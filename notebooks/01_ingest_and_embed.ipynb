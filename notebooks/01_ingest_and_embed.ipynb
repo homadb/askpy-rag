{
 "cells": [
  {
   "cell_type": "code",
   "execution_count": 3,
   "id": "dc34b17a",
   "metadata": {},
   "outputs": [],
   "source": [
    "from pathlib import Path\n",
    "import fitz  # PyMuPDF\n",
    "import os\n",
    "from dotenv import load_dotenv  # Optional for secure API key handling\n",
    "\n",
    "from langchain.text_splitter import CharacterTextSplitter\n",
    "from langchain.vectorstores import Chroma\n",
    "from langchain.embeddings import OpenAIEmbeddings"
   ]
  },
  {
   "cell_type": "code",
   "execution_count": 4,
   "id": "9913a88e",
   "metadata": {},
   "outputs": [
    {
     "name": "stderr",
     "output_type": "stream",
     "text": [
      "/var/folders/cq/tvx_t3ws7xxcsv5lz1_j4j_40000gn/T/ipykernel_10289/4034385780.py:10: LangChainDeprecationWarning: The class `OpenAIEmbeddings` was deprecated in LangChain 0.0.9 and will be removed in 1.0. An updated version of the class exists in the :class:`~langchain-openai package and should be used instead. To use it run `pip install -U :class:`~langchain-openai` and import as `from :class:`~langchain_openai import OpenAIEmbeddings``.\n",
      "  embedding = OpenAIEmbeddings(openai_api_key=openai_api_key)\n"
     ]
    }
   ],
   "source": [
    "# ✅ Load environment variables from .env if it exists\n",
    "load_dotenv()\n",
    "openai_api_key = os.getenv(\"OPENAI_API_KEY\")\n",
    "\n",
    "if not openai_api_key:\n",
    "    raise ValueError(\"❌ OPENAI_API_KEY not found. Please set it in .env or environment variables.\")\n",
    "\n",
    "    \n",
    "# ✅ Set up embedding model\n",
    "embedding = OpenAIEmbeddings(openai_api_key=openai_api_key)"
   ]
  },
  {
   "cell_type": "code",
   "execution_count": 5,
   "id": "69520fcd",
   "metadata": {},
   "outputs": [],
   "source": [
    "# ✅ Step 1: Extract text from all PDFs\n",
    "def extract_text_from_pdf(pdf_path):\n",
    "    print(f\"📄 Reading: {pdf_path.name}\")\n",
    "    doc = fitz.open(pdf_path)\n",
    "    text = \"\"\n",
    "    for page in doc:\n",
    "        text += page.get_text()\n",
    "    return text"
   ]
  },
  {
   "cell_type": "code",
   "execution_count": null,
   "id": "d6bc1b97",
   "metadata": {},
   "outputs": [
    {
     "ename": "FileNotFoundError",
     "evalue": "❌ No PDF files found in /data folder.",
     "output_type": "error",
     "traceback": [
      "\u001b[31m---------------------------------------------------------------------------\u001b[39m",
      "\u001b[31mFileNotFoundError\u001b[39m                         Traceback (most recent call last)",
      "\u001b[36mCell\u001b[39m\u001b[36m \u001b[39m\u001b[32mIn[10]\u001b[39m\u001b[32m, line 6\u001b[39m\n\u001b[32m      3\u001b[39m pdf_files = \u001b[38;5;28mlist\u001b[39m(pdf_dir.glob(\u001b[33m\"\u001b[39m\u001b[33m*.pdf\u001b[39m\u001b[33m\"\u001b[39m))\n\u001b[32m      5\u001b[39m \u001b[38;5;28;01mif\u001b[39;00m \u001b[38;5;129;01mnot\u001b[39;00m pdf_files:\n\u001b[32m----> \u001b[39m\u001b[32m6\u001b[39m     \u001b[38;5;28;01mraise\u001b[39;00m \u001b[38;5;167;01mFileNotFoundError\u001b[39;00m(\u001b[33m\"\u001b[39m\u001b[33m❌ No PDF files found in /data folder.\u001b[39m\u001b[33m\"\u001b[39m)\n\u001b[32m      8\u001b[39m all_text = \u001b[33m\"\u001b[39m\u001b[33m\"\u001b[39m\n\u001b[32m      9\u001b[39m \u001b[38;5;28;01mfor\u001b[39;00m file \u001b[38;5;129;01min\u001b[39;00m pdf_files:\n",
      "\u001b[31mFileNotFoundError\u001b[39m: ❌ No PDF files found in /data folder."
     ]
    }
   ],
   "source": [
    "# ✅ Load all text from /data folder\n",
    "pdf_dir = Path(\"../data/tutorials\")\n",
    "pdf_files = list(pdf_dir.glob(\"*.pdf\"))\n",
    "\n",
    "if not pdf_files:\n",
    "    raise FileNotFoundError(\"❌ No PDF files found in /data/tutorials folder.\")\n",
    "\n",
    "all_text = \"\"\n",
    "for file in pdf_files:\n",
    "    all_text += extract_text_from_pdf(file)\n",
    "\n",
    "print(\"✅ All PDF content loaded.\")"
   ]
  },
  {
   "cell_type": "code",
   "execution_count": null,
   "id": "127cb285",
   "metadata": {
    "vscode": {
     "languageId": "plaintext"
    }
   },
   "outputs": [],
   "source": []
  },
  {
   "cell_type": "code",
   "execution_count": null,
   "id": "5fd216df",
   "metadata": {
    "vscode": {
     "languageId": "plaintext"
    }
   },
   "outputs": [],
   "source": []
  },
  {
   "cell_type": "code",
   "execution_count": null,
   "id": "20ffecc7",
   "metadata": {
    "vscode": {
     "languageId": "plaintext"
    }
   },
   "outputs": [],
   "source": []
  },
  {
   "cell_type": "code",
   "execution_count": null,
   "id": "e5c8856f",
   "metadata": {
    "vscode": {
     "languageId": "plaintext"
    }
   },
   "outputs": [],
   "source": []
  },
  {
   "cell_type": "code",
   "execution_count": null,
   "id": "4e11a79e",
   "metadata": {
    "vscode": {
     "languageId": "plaintext"
    }
   },
   "outputs": [],
   "source": []
  },
  {
   "cell_type": "code",
   "execution_count": null,
   "id": "109d3e04",
   "metadata": {},
   "outputs": [],
   "source": [
    "# ✅ Step 2: Chunk the text\n",
    "splitter = CharacterTextSplitter(chunk_size=800, chunk_overlap=100)\n",
    "chunks = splitter.split_text(all_text)\n",
    "\n",
    "print(f\"✅ Total chunks created: {len(chunks)}\")"
   ]
  },
  {
   "cell_type": "code",
   "execution_count": null,
   "id": "b0280ea3",
   "metadata": {},
   "outputs": [],
   "source": [
    "# ✅ Step 3: Embed and store in ChromaDB\n",
    "persist_dir = \"../db\"\n",
    "db = Chroma.from_texts(chunks, embedding, persist_directory=persist_dir)\n",
    "db.persist()\n",
    "\n",
    "print(f\"✅ Vector database saved to {persist_dir}\")"
   ]
  }
 ],
 "metadata": {
  "kernelspec": {
   "display_name": "ragenv",
   "language": "python",
   "name": "python3"
  },
  "language_info": {
   "codemirror_mode": {
    "name": "ipython",
    "version": 3
   },
   "file_extension": ".py",
   "mimetype": "text/x-python",
   "name": "python",
   "nbconvert_exporter": "python",
   "pygments_lexer": "ipython3",
   "version": "3.12.0"
  }
 },
 "nbformat": 4,
 "nbformat_minor": 5
}
