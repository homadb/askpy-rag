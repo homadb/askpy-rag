{
 "cells": [
  {
   "cell_type": "code",
   "execution_count": null,
   "id": "dc34b17a",
   "metadata": {
    "vscode": {
     "languageId": "plaintext"
    }
   },
   "outputs": [],
   "source": [
    "from pathlib import Path\n",
    "import fitz  # PyMuPDF\n",
    "import os\n",
    "from dotenv import load_dotenv  # Optional for secure API key handling\n",
    "\n",
    "from langchain.text_splitter import CharacterTextSplitter\n",
    "from langchain.vectorstores import Chroma\n",
    "from langchain.embeddings import OpenAIEmbeddings"
   ]
  },
  {
   "cell_type": "code",
   "execution_count": null,
   "id": "9913a88e",
   "metadata": {
    "vscode": {
     "languageId": "plaintext"
    }
   },
   "outputs": [],
   "source": [
    "# ✅ Load environment variables from .env if it exists\n",
    "load_dotenv()\n",
    "openai_api_key = os.getenv(\"OPENAI_API_KEY\")\n",
    "\n",
    "if not openai_api_key:\n",
    "    raise ValueError(\"❌ OPENAI_API_KEY not found. Please set it in .env or environment variables.\")\n",
    "\n",
    "    \n",
    "# ✅ Set up embedding model\n",
    "embedding = OpenAIEmbeddings(openai_api_key=openai_api_key)"
   ]
  },
  {
   "cell_type": "code",
   "execution_count": null,
   "id": "69520fcd",
   "metadata": {
    "vscode": {
     "languageId": "plaintext"
    }
   },
   "outputs": [],
   "source": [
    "# ✅ Step 1: Extract text from all PDFs\n",
    "def extract_text_from_pdf(pdf_path):\n",
    "    print(f\"📄 Reading: {pdf_path.name}\")\n",
    "    doc = fitz.open(pdf_path)\n",
    "    text = \"\"\n",
    "    for page in doc:\n",
    "        text += page.get_text()\n",
    "    return text"
   ]
  },
  {
   "cell_type": "code",
   "execution_count": null,
   "id": "d6bc1b97",
   "metadata": {
    "vscode": {
     "languageId": "plaintext"
    }
   },
   "outputs": [],
   "source": [
    "# ✅ Load all text from /data folder\n",
    "pdf_dir = Path(\"../data\")\n",
    "pdf_files = list(pdf_dir.glob(\"*.pdf\"))\n",
    "\n",
    "if not pdf_files:\n",
    "    raise FileNotFoundError(\"❌ No PDF files found in /data folder.\")\n",
    "\n",
    "all_text = \"\"\n",
    "for file in pdf_files:\n",
    "    all_text += extract_text_from_pdf(file)\n",
    "\n",
    "print(\"✅ All PDF content loaded.\")"
   ]
  },
  {
   "cell_type": "code",
   "execution_count": null,
   "id": "109d3e04",
   "metadata": {
    "vscode": {
     "languageId": "plaintext"
    }
   },
   "outputs": [],
   "source": [
    "# ✅ Step 2: Chunk the text\n",
    "splitter = CharacterTextSplitter(chunk_size=800, chunk_overlap=100)\n",
    "chunks = splitter.split_text(all_text)\n",
    "\n",
    "print(f\"✅ Total chunks created: {len(chunks)}\")"
   ]
  },
  {
   "cell_type": "code",
   "execution_count": null,
   "id": "b0280ea3",
   "metadata": {
    "vscode": {
     "languageId": "plaintext"
    }
   },
   "outputs": [],
   "source": [
    "# ✅ Step 3: Embed and store in ChromaDB\n",
    "persist_dir = \"../db\"\n",
    "db = Chroma.from_texts(chunks, embedding, persist_directory=persist_dir)\n",
    "db.persist()\n",
    "\n",
    "print(f\"✅ Vector database saved to {persist_dir}\")"
   ]
  }
 ],
 "metadata": {
  "language_info": {
   "name": "python"
  }
 },
 "nbformat": 4,
 "nbformat_minor": 5
}
