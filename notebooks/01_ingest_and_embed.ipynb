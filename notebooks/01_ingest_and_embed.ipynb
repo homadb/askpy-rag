{
 "cells": [
  {
   "cell_type": "code",
   "execution_count": null,
   "id": "dc34b17a",
   "metadata": {
    "vscode": {
     "languageId": "plaintext"
    }
   },
   "outputs": [],
   "source": [
    "from pathlib import Path\n",
    "import fitz  # PyMuPDF\n",
    "from langchain.text_splitter import CharacterTextSplitter\n",
    "from langchain.vectorstores import Chroma\n",
    "from langchain.embeddings import OpenAIEmbeddings  # Or replace with Together/HuggingFace"
   ]
  },
  {
   "cell_type": "code",
   "execution_count": null,
   "id": "9913a88e",
   "metadata": {
    "vscode": {
     "languageId": "plaintext"
    }
   },
   "outputs": [],
   "source": [
    "# Step 1: Extract text from all PDFs\n",
    "def extract_text_from_pdf(pdf_path):\n",
    "    doc = fitz.open(pdf_path)\n",
    "    text = \"\"\n",
    "    for page in doc:\n",
    "        text += page.get_text()\n",
    "    return text"
   ]
  },
  {
   "cell_type": "code",
   "execution_count": null,
   "id": "69520fcd",
   "metadata": {
    "vscode": {
     "languageId": "plaintext"
    }
   },
   "outputs": [],
   "source": [
    "# Load all PDF text\n",
    "all_text = \"\"\n",
    "pdf_dir = Path(\"../data\")  # Adjust path if needed\n",
    "for file in pdf_dir.glob(\"*.pdf\"):\n",
    "    all_text += extract_text_from_pdf(file)\n",
    "\n",
    "print(\"✅ Loaded all text.\")"
   ]
  },
  {
   "cell_type": "code",
   "execution_count": null,
   "id": "d6bc1b97",
   "metadata": {
    "vscode": {
     "languageId": "plaintext"
    }
   },
   "outputs": [],
   "source": [
    "# Step 2: Chunk the text\n",
    "splitter = CharacterTextSplitter(chunk_size=800, chunk_overlap=100)\n",
    "chunks = splitter.split_text(all_text)\n",
    "\n",
    "print(f\"✅ Total chunks: {len(chunks)}\")"
   ]
  },
  {
   "cell_type": "code",
   "execution_count": null,
   "id": "109d3e04",
   "metadata": {
    "vscode": {
     "languageId": "plaintext"
    }
   },
   "outputs": [],
   "source": [
    "# Step 3: Embed and store in Chroma\n",
    "persist_dir = \"../db\"\n",
    "embedding = OpenAIEmbeddings()  # Replace if you use Together.ai\n",
    "db = Chroma.from_texts(chunks, embedding, persist_directory=persist_dir)\n",
    "db.persist()\n",
    "\n",
    "print(\"✅ Chunks embedded and saved to vector DB.\")"
   ]
  }
 ],
 "metadata": {
  "language_info": {
   "name": "python"
  }
 },
 "nbformat": 4,
 "nbformat_minor": 5
}
