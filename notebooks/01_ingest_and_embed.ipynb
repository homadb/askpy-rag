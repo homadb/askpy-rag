{
 "cells": [
  {
   "cell_type": "code",
   "execution_count": 2,
   "id": "dc34b17a",
   "metadata": {},
   "outputs": [],
   "source": [
    "from pathlib import Path\n",
    "import fitz  # PyMuPDF\n",
    "import os\n",
    "from dotenv import load_dotenv\n",
    "\n",
    "from langchain.text_splitter import CharacterTextSplitter\n",
    "from langchain_community.vectorstores import Chroma\n",
    "from langchain.embeddings import HuggingFaceEmbeddings\n"
   ]
  },
  {
   "cell_type": "code",
   "execution_count": 2,
   "id": "9913a88e",
   "metadata": {},
   "outputs": [],
   "source": [
    "# ✅ Load environment variables\n",
    "load_dotenv()\n",
    "persist_dir = \"db\"\n",
    "pdf_dir = Path(\"data/tutorials\")  # Adjust path to your actual PDF folder"
   ]
  },
  {
   "cell_type": "code",
   "execution_count": 4,
   "id": "69520fcd",
   "metadata": {},
   "outputs": [
    {
     "name": "stderr",
     "output_type": "stream",
     "text": [
      "\n",
      "A module that was compiled using NumPy 1.x cannot be run in\n",
      "NumPy 2.2.4 as it may crash. To support both 1.x and 2.x\n",
      "versions of NumPy, modules must be compiled with NumPy 2.0.\n",
      "Some module may need to rebuild instead e.g. with 'pybind11>=2.12'.\n",
      "\n",
      "If you are a user of the module, the easiest solution will be to\n",
      "downgrade to 'numpy<2' or try to upgrade the affected module.\n",
      "We expect that some modules will need time to support NumPy 2.\n",
      "\n",
      "Traceback (most recent call last):  File \"<frozen runpy>\", line 198, in _run_module_as_main\n",
      "  File \"<frozen runpy>\", line 88, in _run_code\n",
      "  File \"/Volumes/My Volume/askpy-rag/ragenv/lib/python3.12/site-packages/ipykernel_launcher.py\", line 18, in <module>\n",
      "    app.launch_new_instance()\n",
      "  File \"/Volumes/My Volume/askpy-rag/ragenv/lib/python3.12/site-packages/traitlets/config/application.py\", line 1075, in launch_instance\n",
      "    app.start()\n",
      "  File \"/Volumes/My Volume/askpy-rag/ragenv/lib/python3.12/site-packages/ipykernel/kernelapp.py\", line 739, in start\n",
      "    self.io_loop.start()\n",
      "  File \"/Volumes/My Volume/askpy-rag/ragenv/lib/python3.12/site-packages/tornado/platform/asyncio.py\", line 205, in start\n",
      "    self.asyncio_loop.run_forever()\n",
      "  File \"/Library/Frameworks/Python.framework/Versions/3.12/lib/python3.12/asyncio/base_events.py\", line 618, in run_forever\n",
      "    self._run_once()\n",
      "  File \"/Library/Frameworks/Python.framework/Versions/3.12/lib/python3.12/asyncio/base_events.py\", line 1951, in _run_once\n",
      "    handle._run()\n",
      "  File \"/Library/Frameworks/Python.framework/Versions/3.12/lib/python3.12/asyncio/events.py\", line 84, in _run\n",
      "    self._context.run(self._callback, *self._args)\n",
      "  File \"/Volumes/My Volume/askpy-rag/ragenv/lib/python3.12/site-packages/ipykernel/kernelbase.py\", line 545, in dispatch_queue\n",
      "    await self.process_one()\n",
      "  File \"/Volumes/My Volume/askpy-rag/ragenv/lib/python3.12/site-packages/ipykernel/kernelbase.py\", line 534, in process_one\n",
      "    await dispatch(*args)\n",
      "  File \"/Volumes/My Volume/askpy-rag/ragenv/lib/python3.12/site-packages/ipykernel/kernelbase.py\", line 437, in dispatch_shell\n",
      "    await result\n",
      "  File \"/Volumes/My Volume/askpy-rag/ragenv/lib/python3.12/site-packages/ipykernel/ipkernel.py\", line 362, in execute_request\n",
      "    await super().execute_request(stream, ident, parent)\n",
      "  File \"/Volumes/My Volume/askpy-rag/ragenv/lib/python3.12/site-packages/ipykernel/kernelbase.py\", line 778, in execute_request\n",
      "    reply_content = await reply_content\n",
      "  File \"/Volumes/My Volume/askpy-rag/ragenv/lib/python3.12/site-packages/ipykernel/ipkernel.py\", line 449, in do_execute\n",
      "    res = shell.run_cell(\n",
      "  File \"/Volumes/My Volume/askpy-rag/ragenv/lib/python3.12/site-packages/ipykernel/zmqshell.py\", line 549, in run_cell\n",
      "    return super().run_cell(*args, **kwargs)\n",
      "  File \"/Volumes/My Volume/askpy-rag/ragenv/lib/python3.12/site-packages/IPython/core/interactiveshell.py\", line 3098, in run_cell\n",
      "    result = self._run_cell(\n",
      "  File \"/Volumes/My Volume/askpy-rag/ragenv/lib/python3.12/site-packages/IPython/core/interactiveshell.py\", line 3153, in _run_cell\n",
      "    result = runner(coro)\n",
      "  File \"/Volumes/My Volume/askpy-rag/ragenv/lib/python3.12/site-packages/IPython/core/async_helpers.py\", line 128, in _pseudo_sync_runner\n",
      "    coro.send(None)\n",
      "  File \"/Volumes/My Volume/askpy-rag/ragenv/lib/python3.12/site-packages/IPython/core/interactiveshell.py\", line 3362, in run_cell_async\n",
      "    has_raised = await self.run_ast_nodes(code_ast.body, cell_name,\n",
      "  File \"/Volumes/My Volume/askpy-rag/ragenv/lib/python3.12/site-packages/IPython/core/interactiveshell.py\", line 3607, in run_ast_nodes\n",
      "    if await self.run_code(code, result, async_=asy):\n",
      "  File \"/Volumes/My Volume/askpy-rag/ragenv/lib/python3.12/site-packages/IPython/core/interactiveshell.py\", line 3667, in run_code\n",
      "    exec(code_obj, self.user_global_ns, self.user_ns)\n",
      "  File \"/var/folders/cq/tvx_t3ws7xxcsv5lz1_j4j_40000gn/T/ipykernel_12281/1594190589.py\", line 2, in <module>\n",
      "    embedding = HuggingFaceEmbeddings(model_name=\"sentence-transformers/all-MiniLM-L6-v2\")\n",
      "  File \"/Volumes/My Volume/askpy-rag/ragenv/lib/python3.12/site-packages/langchain_core/_api/deprecation.py\", line 221, in warn_if_direct_instance\n",
      "    return wrapped(self, *args, **kwargs)\n",
      "  File \"/Volumes/My Volume/askpy-rag/ragenv/lib/python3.12/site-packages/langchain_community/embeddings/huggingface.py\", line 84, in __init__\n",
      "    import sentence_transformers\n",
      "  File \"/Volumes/My Volume/askpy-rag/ragenv/lib/python3.12/site-packages/sentence_transformers/__init__.py\", line 9, in <module>\n",
      "    from sentence_transformers.backend import (\n",
      "  File \"/Volumes/My Volume/askpy-rag/ragenv/lib/python3.12/site-packages/sentence_transformers/backend.py\", line 11, in <module>\n",
      "    from sentence_transformers.util import disable_datasets_caching, is_datasets_available\n",
      "  File \"/Volumes/My Volume/askpy-rag/ragenv/lib/python3.12/site-packages/sentence_transformers/util.py\", line 17, in <module>\n",
      "    import torch\n",
      "  File \"/Volumes/My Volume/askpy-rag/ragenv/lib/python3.12/site-packages/torch/__init__.py\", line 1477, in <module>\n",
      "    from .functional import *  # noqa: F403\n",
      "  File \"/Volumes/My Volume/askpy-rag/ragenv/lib/python3.12/site-packages/torch/functional.py\", line 9, in <module>\n",
      "    import torch.nn.functional as F\n",
      "  File \"/Volumes/My Volume/askpy-rag/ragenv/lib/python3.12/site-packages/torch/nn/__init__.py\", line 1, in <module>\n",
      "    from .modules import *  # noqa: F403\n",
      "  File \"/Volumes/My Volume/askpy-rag/ragenv/lib/python3.12/site-packages/torch/nn/modules/__init__.py\", line 35, in <module>\n",
      "    from .transformer import TransformerEncoder, TransformerDecoder, \\\n",
      "  File \"/Volumes/My Volume/askpy-rag/ragenv/lib/python3.12/site-packages/torch/nn/modules/transformer.py\", line 20, in <module>\n",
      "    device: torch.device = torch.device(torch._C._get_default_device()),  # torch.device('cpu'),\n",
      "/Volumes/My Volume/askpy-rag/ragenv/lib/python3.12/site-packages/torch/nn/modules/transformer.py:20: UserWarning: Failed to initialize NumPy: _ARRAY_API not found (Triggered internally at /Users/runner/work/pytorch/pytorch/pytorch/torch/csrc/utils/tensor_numpy.cpp:84.)\n",
      "  device: torch.device = torch.device(torch._C._get_default_device()),  # torch.device('cpu'),\n",
      "/Volumes/My Volume/askpy-rag/ragenv/lib/python3.12/site-packages/tqdm/auto.py:21: TqdmWarning: IProgress not found. Please update jupyter and ipywidgets. See https://ipywidgets.readthedocs.io/en/stable/user_install.html\n",
      "  from .autonotebook import tqdm as notebook_tqdm\n",
      "Xet Storage is enabled for this repo, but the 'hf_xet' package is not installed. Falling back to regular HTTP download. For better performance, install the package with: `pip install huggingface_hub[hf_xet]` or `pip install hf_xet`\n"
     ]
    }
   ],
   "source": [
    "# ✅ Set up embedding model using HuggingFace\n",
    "embedding = HuggingFaceEmbeddings(model_name=\"sentence-transformers/all-MiniLM-L6-v2\")"
   ]
  },
  {
   "cell_type": "code",
   "execution_count": 11,
   "id": "d6bc1b97",
   "metadata": {},
   "outputs": [],
   "source": [
    "# ✅ Extract text from a single PDF\n",
    "def extract_text_from_pdf(pdf_path):\n",
    "    print(f\"📄 Reading: {pdf_path.name}\")\n",
    "    try:\n",
    "        doc = fitz.open(pdf_path)\n",
    "        text = \"\"\n",
    "        for page in doc:\n",
    "            text += page.get_text()\n",
    "        return text\n",
    "    except Exception as e:\n",
    "        print(f\"❌ Failed to read {pdf_path.name}: {e}\")\n",
    "        return \"\""
   ]
  },
  {
   "cell_type": "code",
   "execution_count": null,
   "id": "109d3e04",
   "metadata": {},
   "outputs": [
    {
     "name": "stdout",
     "output_type": "stream",
     "text": [
      "Looking in: /Volumes/My Volume/askpy-rag/data/tutorials\n",
      "Files found: [PosixPath('../data/tutorials/Python Crash Course, 3rd Edition A Hands-On, Pr.pdf'), PosixPath('../data/tutorials/.DS_Store'), PosixPath('../data/tutorials/The Big Book Of Small Python Projects.pdf'), PosixPath('../data/tutorials/Python for data science 2022.pdf'), PosixPath('../data/tutorials/Automate_the_Boring_Stuff_with_Python,_2nd_Edition_@RedBlueHit.pdf')]\n",
      "📄 Reading: Python Crash Course, 3rd Edition A Hands-On, Pr.pdf\n",
      "📄 Reading: The Big Book Of Small Python Projects.pdf\n",
      "📄 Reading: Python for data science 2022.pdf\n",
      "📄 Reading: Automate_the_Boring_Stuff_with_Python,_2nd_Edition_@RedBlueHit.pdf\n",
      "✅ All PDF content loaded.\n"
     ]
    }
   ],
   "source": [
    "from pathlib import Path\n",
    "\n",
    "# ✅ Set path to folder containing PDFs\n",
    "pdf_dir = Path(\"../data/tutorials\")\n",
    "\n",
    "# ✅ Load all .pdf files\n",
    "pdf_files = list(pdf_dir.glob(\"*.pdf\"))\n",
    "if not pdf_files:\n",
    "    raise FileNotFoundError(\"❌ No PDF files found in 'data/tutorials/'\")\n",
    "\n",
    "all_text = \"\"\n",
    "for file in pdf_files:\n",
    "    all_text += extract_text_from_pdf(file)\n",
    "\n",
    "print(\"✅ All PDF content loaded.\")\n"
   ]
  },
  {
   "cell_type": "code",
   "execution_count": 20,
   "id": "b0280ea3",
   "metadata": {},
   "outputs": [
    {
     "name": "stdout",
     "output_type": "stream",
     "text": [
      "✅ Total chunks created: 1\n"
     ]
    }
   ],
   "source": [
    "# ✅ Chunk the text\n",
    "splitter = CharacterTextSplitter(chunk_size=800, chunk_overlap=100)\n",
    "chunks = splitter.split_text(all_text)\n",
    "print(f\"✅ Total chunks created: {len(chunks)}\")"
   ]
  },
  {
   "cell_type": "code",
   "execution_count": 1,
   "id": "87f46bfc",
   "metadata": {},
   "outputs": [
    {
     "ename": "NameError",
     "evalue": "name 'Chroma' is not defined",
     "output_type": "error",
     "traceback": [
      "\u001b[31m---------------------------------------------------------------------------\u001b[39m",
      "\u001b[31mNameError\u001b[39m                                 Traceback (most recent call last)",
      "\u001b[36mCell\u001b[39m\u001b[36m \u001b[39m\u001b[32mIn[1]\u001b[39m\u001b[32m, line 3\u001b[39m\n\u001b[32m      1\u001b[39m \u001b[38;5;66;03m# ✅ Embed and store in Chroma\u001b[39;00m\n\u001b[32m      2\u001b[39m persist_dir = \u001b[33m\"\u001b[39m\u001b[33m../db\u001b[39m\u001b[33m\"\u001b[39m  \u001b[38;5;66;03m# Go up one level from 'notebooks/' to the main folder\u001b[39;00m\n\u001b[32m----> \u001b[39m\u001b[32m3\u001b[39m db = \u001b[43mChroma\u001b[49m.from_texts(chunks, embedding, persist_directory=persist_dir)\n\u001b[32m      4\u001b[39m db.persist()\n\u001b[32m      5\u001b[39m \u001b[38;5;28mprint\u001b[39m(\u001b[33mf\u001b[39m\u001b[33m\"\u001b[39m\u001b[33m✅ Vector database saved to \u001b[39m\u001b[33m'\u001b[39m\u001b[38;5;132;01m{\u001b[39;00mpersist_dir\u001b[38;5;132;01m}\u001b[39;00m\u001b[33m'\u001b[39m\u001b[33m\"\u001b[39m)\n",
      "\u001b[31mNameError\u001b[39m: name 'Chroma' is not defined"
     ]
    }
   ],
   "source": [
    "# ✅ Embed and store in Chroma\n",
    "persist_dir = \"../db\"  # Go up one level from 'notebooks/' to the main folder\n",
    "db = Chroma.from_texts(chunks, embedding, persist_directory=persist_dir)\n",
    "db.persist()\n",
    "print(f\"✅ Vector database saved to '{persist_dir}'\")"
   ]
  }
 ],
 "metadata": {
  "kernelspec": {
   "display_name": "ragenv",
   "language": "python",
   "name": "python3"
  },
  "language_info": {
   "codemirror_mode": {
    "name": "ipython",
    "version": 3
   },
   "file_extension": ".py",
   "mimetype": "text/x-python",
   "name": "python",
   "nbconvert_exporter": "python",
   "pygments_lexer": "ipython3",
   "version": "3.12.0"
  }
 },
 "nbformat": 4,
 "nbformat_minor": 5
}
