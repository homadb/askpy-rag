{
 "cells": [
  {
   "cell_type": "code",
   "execution_count": 1,
   "id": "dc34b17a",
   "metadata": {},
   "outputs": [],
   "source": [
    "from pathlib import Path\n",
    "import fitz  # PyMuPDF\n",
    "import os\n",
    "from dotenv import load_dotenv\n",
    "\n",
    "from langchain.text_splitter import CharacterTextSplitter\n",
    "from langchain_community.vectorstores import Chroma\n",
    "from langchain_huggingface import HuggingFaceEmbeddings\n"
   ]
  },
  {
   "cell_type": "code",
   "execution_count": 2,
   "id": "9913a88e",
   "metadata": {},
   "outputs": [],
   "source": [
    "# ✅ Load environment variables\n",
    "load_dotenv()\n",
    "persist_dir = \"../db\"\n",
    "pdf_dir = Path(\"../data/tutorials\")  # Adjust path to your actual PDF folder"
   ]
  },
  {
   "cell_type": "code",
   "execution_count": 3,
   "id": "69520fcd",
   "metadata": {},
   "outputs": [
    {
     "name": "stderr",
     "output_type": "stream",
     "text": [
      "/Volumes/My Volume/askpy-rag/ragenv/lib/python3.12/site-packages/tqdm/auto.py:21: TqdmWarning: IProgress not found. Please update jupyter and ipywidgets. See https://ipywidgets.readthedocs.io/en/stable/user_install.html\n",
      "  from .autonotebook import tqdm as notebook_tqdm\n"
     ]
    }
   ],
   "source": [
    "# ✅ Set up embedding model using HuggingFace\n",
    "embedding = HuggingFaceEmbeddings(model_name=\"sentence-transformers/all-MiniLM-L6-v2\")"
   ]
  },
  {
   "cell_type": "code",
   "execution_count": 4,
   "id": "d6bc1b97",
   "metadata": {},
   "outputs": [],
   "source": [
    "# ✅ Extract text from a single PDF\n",
    "def extract_text_from_pdf(pdf_path):\n",
    "    print(f\"📄 Reading: {pdf_path.name}\")\n",
    "    try:\n",
    "        doc = fitz.open(pdf_path)\n",
    "        text = \"\"\n",
    "        for page in doc:\n",
    "            text += page.get_text()\n",
    "        return text\n",
    "    except Exception as e:\n",
    "        print(f\"❌ Failed to read {pdf_path.name}: {e}\")\n",
    "        return \"\""
   ]
  },
  {
   "cell_type": "code",
   "execution_count": 5,
   "id": "109d3e04",
   "metadata": {},
   "outputs": [
    {
     "name": "stdout",
     "output_type": "stream",
     "text": [
      "📄 Reading: Python Crash Course, 3rd Edition A Hands-On, Pr.pdf\n",
      "📄 Reading: The Big Book Of Small Python Projects.pdf\n",
      "📄 Reading: Python for data science 2022.pdf\n",
      "📄 Reading: Automate_the_Boring_Stuff_with_Python,_2nd_Edition_@RedBlueHit.pdf\n",
      "✅ All PDF content loaded.\n"
     ]
    }
   ],
   "source": [
    "from pathlib import Path\n",
    "\n",
    "# ✅ Set path to folder containing PDFs\n",
    "pdf_dir = Path(\"../data/tutorials\")\n",
    "\n",
    "# ✅ Load all .pdf files\n",
    "pdf_files = list(pdf_dir.glob(\"*.pdf\"))\n",
    "if not pdf_files:\n",
    "    raise FileNotFoundError(\"❌ No PDF files found in 'data/tutorials/'\")\n",
    "\n",
    "all_text = \"\"\n",
    "for file in pdf_files:\n",
    "    all_text += extract_text_from_pdf(file)\n",
    "\n",
    "print(\"✅ All PDF content loaded.\")\n"
   ]
  },
  {
   "cell_type": "code",
   "execution_count": 6,
   "id": "b0280ea3",
   "metadata": {},
   "outputs": [
    {
     "name": "stdout",
     "output_type": "stream",
     "text": [
      "✅ Total chunks created: 1\n"
     ]
    }
   ],
   "source": [
    "# ✅ Chunk the text\n",
    "splitter = CharacterTextSplitter(chunk_size=800, chunk_overlap=100)\n",
    "chunks = splitter.split_text(all_text)\n",
    "print(f\"✅ Total chunks created: {len(chunks)}\")"
   ]
  },
  {
   "cell_type": "code",
   "execution_count": null,
   "id": "87f46bfc",
   "metadata": {},
   "outputs": [
    {
     "name": "stdout",
     "output_type": "stream",
     "text": [
      "✅ Vector database saved to '../db'\n"
     ]
    },
    {
     "name": "stderr",
     "output_type": "stream",
     "text": [
      "/var/folders/cq/tvx_t3ws7xxcsv5lz1_j4j_40000gn/T/ipykernel_11110/1341724617.py:4: LangChainDeprecationWarning: Since Chroma 0.4.x the manual persistence method is no longer supported as docs are automatically persisted.\n",
      "  db.persist()\n"
     ]
    }
   ],
   "source": [
    "# ✅ Embed and store in Chroma\n",
    "persist_dir = \"../db\"  # Go up one level from 'notebooks/' to the main folder\n",
    "db = Chroma.from_texts(chunks, embedding, persist_directory=persist_dir)\n",
    "print(f\"✅ Vector database saved to '{persist_dir}'\")"
   ]
  }
 ],
 "metadata": {
  "kernelspec": {
   "display_name": "ragenv",
   "language": "python",
   "name": "python3"
  },
  "language_info": {
   "codemirror_mode": {
    "name": "ipython",
    "version": 3
   },
   "file_extension": ".py",
   "mimetype": "text/x-python",
   "name": "python",
   "nbconvert_exporter": "python",
   "pygments_lexer": "ipython3",
   "version": "3.12.0"
  }
 },
 "nbformat": 4,
 "nbformat_minor": 5
}
