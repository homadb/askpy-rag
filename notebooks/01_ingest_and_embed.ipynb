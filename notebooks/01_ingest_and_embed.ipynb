{
 "cells": [
  {
   "cell_type": "code",
   "execution_count": 1,
   "id": "dc34b17a",
   "metadata": {},
   "outputs": [],
   "source": [
    "from pathlib import Path\n",
    "import fitz  # PyMuPDF\n",
    "import os\n",
    "from dotenv import load_dotenv\n",
    "\n",
    "from langchain.text_splitter import CharacterTextSplitter\n",
    "from langchain_community.vectorstores import Chroma\n",
    "from langchain_huggingface import HuggingFaceEmbeddings\n"
   ]
  },
  {
   "cell_type": "code",
   "execution_count": 2,
   "id": "9913a88e",
   "metadata": {},
   "outputs": [],
   "source": [
    "# ✅ Load environment variables\n",
    "load_dotenv()\n",
    "persist_dir = \"../db\"\n",
    "pdf_dir = Path(\"../data/tutorials\")  # Adjust path to your actual PDF folder"
   ]
  },
  {
   "cell_type": "code",
   "execution_count": 3,
   "id": "69520fcd",
   "metadata": {},
   "outputs": [],
   "source": [
    "# ✅ Set up embedding model using HuggingFace\n",
    "embedding = HuggingFaceEmbeddings(model_name=\"sentence-transformers/all-MiniLM-L6-v2\")"
   ]
  },
  {
   "cell_type": "code",
   "execution_count": 4,
   "id": "d6bc1b97",
   "metadata": {},
   "outputs": [],
   "source": [
    "# ✅ Extract text from a single PDF\n",
    "def extract_text_from_pdf(pdf_path):\n",
    "    print(f\"📄 Reading: {pdf_path.name}\")\n",
    "    try:\n",
    "        doc = fitz.open(pdf_path)\n",
    "        text = \"\"\n",
    "        for page in doc:\n",
    "            text += page.get_text()\n",
    "        return text\n",
    "    except Exception as e:\n",
    "        print(f\"❌ Failed to read {pdf_path.name}: {e}\")\n",
    "        return \"\""
   ]
  },
  {
   "cell_type": "code",
   "execution_count": 5,
   "id": "109d3e04",
   "metadata": {},
   "outputs": [
    {
     "name": "stdout",
     "output_type": "stream",
     "text": [
      "📄 Reading: Automate_the_Boring_Stuff_with_Python,_2nd_Edition_@RedBlueHit.pdf\n",
      "📄 Reading: Deep_Learning_Ian_Goodfellow,_Yo.pdf\n",
      "📄 Reading: designing_machine_learning_systems_an_iterative_process_for_production.pdf\n",
      "📄 Reading: fundamentals_of_deep_learning_designing_next_generation_machine.pdf\n",
      "📄 Reading: generative_deep_learning_teaching_machines_to_paint_write_compose.pdf\n",
      "📄 Reading: Hands_On_Machine_Learning_with_Scikit_Learn,_Keras,_and_Tensorflow.pdf\n",
      "📄 Reading: ML Machine Learning-A Probabilistic Perspective.pdf\n",
      "📄 Reading: mml-book.pdf\n",
      "📄 Reading: Python Crash Course, 3rd Edition A Hands-On, Pr.pdf\n",
      "📄 Reading: Python for data science 2022.pdf\n",
      "📄 Reading: The Big Book Of Small Python Projects.pdf\n",
      "✅ All PDF content loaded.\n"
     ]
    }
   ],
   "source": [
    "from pathlib import Path\n",
    "\n",
    "# ✅ Set path to folder containing PDFs\n",
    "pdf_dir = Path(\"../data/tutorials\")\n",
    "\n",
    "# ✅ Load all .pdf files\n",
    "pdf_files = list(pdf_dir.glob(\"*.pdf\"))\n",
    "if not pdf_files:\n",
    "    raise FileNotFoundError(\"❌ No PDF files found in 'data/tutorials/'\")\n",
    "\n",
    "all_text = \"\"\n",
    "for file in pdf_files:\n",
    "    all_text += extract_text_from_pdf(file)\n",
    "\n",
    "print(\"✅ All PDF content loaded.\")\n"
   ]
  },
  {
   "cell_type": "code",
   "execution_count": 6,
   "id": "b0280ea3",
   "metadata": {},
   "outputs": [
    {
     "name": "stderr",
     "output_type": "stream",
     "text": [
      "Created a chunk of size 6486204, which is longer than the specified 400\n",
      "Created a chunk of size 1411, which is longer than the specified 400\n",
      "Created a chunk of size 8090, which is longer than the specified 400\n",
      "Created a chunk of size 3608, which is longer than the specified 400\n",
      "Created a chunk of size 17622, which is longer than the specified 400\n",
      "Created a chunk of size 926, which is longer than the specified 400\n",
      "Created a chunk of size 15975, which is longer than the specified 400\n",
      "Created a chunk of size 9720, which is longer than the specified 400\n",
      "Created a chunk of size 28003, which is longer than the specified 400\n",
      "Created a chunk of size 200360, which is longer than the specified 400\n",
      "Created a chunk of size 70754, which is longer than the specified 400\n",
      "Created a chunk of size 7303, which is longer than the specified 400\n",
      "Created a chunk of size 41811, which is longer than the specified 400\n",
      "Created a chunk of size 36630, which is longer than the specified 400\n",
      "Created a chunk of size 63096, which is longer than the specified 400\n",
      "Created a chunk of size 39758, which is longer than the specified 400\n",
      "Created a chunk of size 1026, which is longer than the specified 400\n",
      "Created a chunk of size 490, which is longer than the specified 400\n",
      "Created a chunk of size 759, which is longer than the specified 400\n",
      "Created a chunk of size 2187, which is longer than the specified 400\n",
      "Created a chunk of size 31821, which is longer than the specified 400\n",
      "Created a chunk of size 7576, which is longer than the specified 400\n",
      "Created a chunk of size 601, which is longer than the specified 400\n",
      "Created a chunk of size 30876, which is longer than the specified 400\n",
      "Created a chunk of size 12843, which is longer than the specified 400\n",
      "Created a chunk of size 9844, which is longer than the specified 400\n",
      "Created a chunk of size 644, which is longer than the specified 400\n",
      "Created a chunk of size 3106, which is longer than the specified 400\n",
      "Created a chunk of size 6864, which is longer than the specified 400\n",
      "Created a chunk of size 2536, which is longer than the specified 400\n",
      "Created a chunk of size 1840, which is longer than the specified 400\n",
      "Created a chunk of size 2768, which is longer than the specified 400\n",
      "Created a chunk of size 57423, which is longer than the specified 400\n",
      "Created a chunk of size 4124, which is longer than the specified 400\n",
      "Created a chunk of size 7065, which is longer than the specified 400\n",
      "Created a chunk of size 10921, which is longer than the specified 400\n",
      "Created a chunk of size 2794, which is longer than the specified 400\n",
      "Created a chunk of size 39387, which is longer than the specified 400\n",
      "Created a chunk of size 17364, which is longer than the specified 400\n",
      "Created a chunk of size 45541, which is longer than the specified 400\n",
      "Created a chunk of size 84631, which is longer than the specified 400\n",
      "Created a chunk of size 2882, which is longer than the specified 400\n",
      "Created a chunk of size 1162, which is longer than the specified 400\n",
      "Created a chunk of size 738, which is longer than the specified 400\n",
      "Created a chunk of size 34983, which is longer than the specified 400\n",
      "Created a chunk of size 682, which is longer than the specified 400\n",
      "Created a chunk of size 448, which is longer than the specified 400\n",
      "Created a chunk of size 1593, which is longer than the specified 400\n",
      "Created a chunk of size 51230, which is longer than the specified 400\n",
      "Created a chunk of size 15591, which is longer than the specified 400\n",
      "Created a chunk of size 287238, which is longer than the specified 400\n",
      "Created a chunk of size 2023, which is longer than the specified 400\n",
      "Created a chunk of size 131240, which is longer than the specified 400\n",
      "Created a chunk of size 723, which is longer than the specified 400\n",
      "Created a chunk of size 29444, which is longer than the specified 400\n",
      "Created a chunk of size 5706, which is longer than the specified 400\n",
      "Created a chunk of size 3061, which is longer than the specified 400\n",
      "Created a chunk of size 1389, which is longer than the specified 400\n",
      "Created a chunk of size 55782, which is longer than the specified 400\n",
      "Created a chunk of size 16384, which is longer than the specified 400\n",
      "Created a chunk of size 90973, which is longer than the specified 400\n",
      "Created a chunk of size 27116, which is longer than the specified 400\n",
      "Created a chunk of size 65077, which is longer than the specified 400\n",
      "Created a chunk of size 2071, which is longer than the specified 400\n",
      "Created a chunk of size 416, which is longer than the specified 400\n",
      "Created a chunk of size 2933, which is longer than the specified 400\n",
      "Created a chunk of size 92740, which is longer than the specified 400\n",
      "Created a chunk of size 68889, which is longer than the specified 400\n",
      "Created a chunk of size 50161, which is longer than the specified 400\n",
      "Created a chunk of size 26366, which is longer than the specified 400\n",
      "Created a chunk of size 2836, which is longer than the specified 400\n",
      "Created a chunk of size 16123, which is longer than the specified 400\n",
      "Created a chunk of size 7484, which is longer than the specified 400\n",
      "Created a chunk of size 7102, which is longer than the specified 400\n"
     ]
    },
    {
     "name": "stdout",
     "output_type": "stream",
     "text": [
      "✅ Total chunks created: 101\n"
     ]
    }
   ],
   "source": [
    "# ✅ Chunk the text\n",
    "splitter = CharacterTextSplitter(chunk_size=400, chunk_overlap=50)\n",
    "chunks = splitter.split_text(all_text)\n",
    "print(f\"✅ Total chunks created: {len(chunks)}\")"
   ]
  },
  {
   "cell_type": "code",
   "execution_count": 7,
   "id": "87f46bfc",
   "metadata": {},
   "outputs": [
    {
     "name": "stdout",
     "output_type": "stream",
     "text": [
      "✅ Vector database saved to '../db'\n"
     ]
    }
   ],
   "source": [
    "# ✅ Embed and store in Chroma\n",
    "persist_dir = \"../db\"  # Go up one level from 'notebooks/' to the main folder\n",
    "db = Chroma.from_texts(chunks, embedding, persist_directory=persist_dir)\n",
    "print(f\"✅ Vector database saved to '{persist_dir}'\")"
   ]
  }
 ],
 "metadata": {
  "kernelspec": {
   "display_name": "venv",
   "language": "python",
   "name": "python3"
  },
  "language_info": {
   "codemirror_mode": {
    "name": "ipython",
    "version": 3
   },
   "file_extension": ".py",
   "mimetype": "text/x-python",
   "name": "python",
   "nbconvert_exporter": "python",
   "pygments_lexer": "ipython3",
   "version": "3.13.3"
  }
 },
 "nbformat": 4,
 "nbformat_minor": 5
}
