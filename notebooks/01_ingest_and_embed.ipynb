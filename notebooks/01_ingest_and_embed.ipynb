{
 "cells": [
  {
   "cell_type": "code",
   "execution_count": 2,
   "id": "dc34b17a",
   "metadata": {},
   "outputs": [],
   "source": [
    "from pathlib import Path\n",
    "import fitz  # PyMuPDF\n",
    "import os\n",
    "from dotenv import load_dotenv\n",
    "\n",
    "from langchain.text_splitter import CharacterTextSplitter\n",
    "from langchain_community.vectorstores import Chroma\n",
    "from langchain_huggingface import HuggingFaceEmbeddings\n"
   ]
  },
  {
   "cell_type": "code",
   "execution_count": 3,
   "id": "9913a88e",
   "metadata": {},
   "outputs": [],
   "source": [
    "# ✅ Load environment variables\n",
    "load_dotenv()\n",
    "persist_dir = \"../db\"\n",
    "pdf_dir = Path(\"../data/tutorials\")  # Adjust path to your actual PDF folder"
   ]
  },
  {
   "cell_type": "code",
   "execution_count": 4,
   "id": "69520fcd",
   "metadata": {},
   "outputs": [],
   "source": [
    "# ✅ Set up embedding model using HuggingFace\n",
    "embedding = HuggingFaceEmbeddings(model_name=\"sentence-transformers/all-MiniLM-L6-v2\")"
   ]
  },
  {
   "cell_type": "code",
   "execution_count": 7,
   "id": "d6bc1b97",
   "metadata": {},
   "outputs": [],
   "source": [
    "# ✅ Extract text from a single PDF\n",
    "def extract_text_from_pdf(pdf_path):\n",
    "    print(f\"📄 Reading: {pdf_path.name}\")\n",
    "    try:\n",
    "        doc = fitz.open(pdf_path)\n",
    "        text = \"\"\n",
    "        for page in doc:\n",
    "            text += page.get_text()\n",
    "        return text\n",
    "    except Exception as e:\n",
    "        print(f\"❌ Failed to read {pdf_path.name}: {e}\")\n",
    "        return \"\""
   ]
  },
  {
   "cell_type": "code",
   "execution_count": 8,
   "id": "109d3e04",
   "metadata": {},
   "outputs": [
    {
     "ename": "FileNotFoundError",
     "evalue": "❌ No PDF files found in 'data/tutorials/'",
     "output_type": "error",
     "traceback": [
      "\u001b[31m---------------------------------------------------------------------------\u001b[39m",
      "\u001b[31mFileNotFoundError\u001b[39m                         Traceback (most recent call last)",
      "\u001b[36mCell\u001b[39m\u001b[36m \u001b[39m\u001b[32mIn[8]\u001b[39m\u001b[32m, line 9\u001b[39m\n\u001b[32m      7\u001b[39m pdf_files = \u001b[38;5;28mlist\u001b[39m(pdf_dir.glob(\u001b[33m\"\u001b[39m\u001b[33m*.pdf\u001b[39m\u001b[33m\"\u001b[39m))\n\u001b[32m      8\u001b[39m \u001b[38;5;28;01mif\u001b[39;00m \u001b[38;5;129;01mnot\u001b[39;00m pdf_files:\n\u001b[32m----> \u001b[39m\u001b[32m9\u001b[39m     \u001b[38;5;28;01mraise\u001b[39;00m \u001b[38;5;167;01mFileNotFoundError\u001b[39;00m(\u001b[33m\"\u001b[39m\u001b[33m❌ No PDF files found in \u001b[39m\u001b[33m'\u001b[39m\u001b[33mdata/tutorials/\u001b[39m\u001b[33m'\u001b[39m\u001b[33m\"\u001b[39m)\n\u001b[32m     11\u001b[39m all_text = \u001b[33m\"\u001b[39m\u001b[33m\"\u001b[39m\n\u001b[32m     12\u001b[39m \u001b[38;5;28;01mfor\u001b[39;00m file \u001b[38;5;129;01min\u001b[39;00m pdf_files:\n",
      "\u001b[31mFileNotFoundError\u001b[39m: ❌ No PDF files found in 'data/tutorials/'"
     ]
    }
   ],
   "source": [
    "from pathlib import Path\n",
    "\n",
    "# ✅ Set path to folder containing PDFs\n",
    "pdf_dir = Path(\"../data/tutorials\")\n",
    "\n",
    "# ✅ Load all .pdf files\n",
    "pdf_files = list(pdf_dir.glob(\"*.pdf\"))\n",
    "if not pdf_files:\n",
    "    raise FileNotFoundError(\"❌ No PDF files found in 'data/tutorials/'\")\n",
    "\n",
    "all_text = \"\"\n",
    "for file in pdf_files:\n",
    "    all_text += extract_text_from_pdf(file)\n",
    "\n",
    "print(\"✅ All PDF content loaded.\")\n"
   ]
  },
  {
   "cell_type": "code",
   "execution_count": 1,
   "id": "b0280ea3",
   "metadata": {},
   "outputs": [
    {
     "ename": "NameError",
     "evalue": "name 'CharacterTextSplitter' is not defined",
     "output_type": "error",
     "traceback": [
      "\u001b[31m---------------------------------------------------------------------------\u001b[39m",
      "\u001b[31mNameError\u001b[39m                                 Traceback (most recent call last)",
      "\u001b[36mCell\u001b[39m\u001b[36m \u001b[39m\u001b[32mIn[1]\u001b[39m\u001b[32m, line 2\u001b[39m\n\u001b[32m      1\u001b[39m \u001b[38;5;66;03m# ✅ Chunk the text\u001b[39;00m\n\u001b[32m----> \u001b[39m\u001b[32m2\u001b[39m splitter = \u001b[43mCharacterTextSplitter\u001b[49m(chunk_size=\u001b[32m400\u001b[39m, chunk_overlap=\u001b[32m50\u001b[39m)\n\u001b[32m      3\u001b[39m chunks = splitter.split_text(all_text)\n\u001b[32m      4\u001b[39m \u001b[38;5;28mprint\u001b[39m(\u001b[33mf\u001b[39m\u001b[33m\"\u001b[39m\u001b[33m✅ Total chunks created: \u001b[39m\u001b[38;5;132;01m{\u001b[39;00m\u001b[38;5;28mlen\u001b[39m(chunks)\u001b[38;5;132;01m}\u001b[39;00m\u001b[33m\"\u001b[39m)\n",
      "\u001b[31mNameError\u001b[39m: name 'CharacterTextSplitter' is not defined"
     ]
    }
   ],
   "source": [
    "# ✅ Chunk the text\n",
    "splitter = CharacterTextSplitter(chunk_size=400, chunk_overlap=50)\n",
    "chunks = splitter.split_text(all_text)\n",
    "print(f\"✅ Total chunks created: {len(chunks)}\")"
   ]
  },
  {
   "cell_type": "code",
   "execution_count": 7,
   "id": "87f46bfc",
   "metadata": {},
   "outputs": [
    {
     "name": "stdout",
     "output_type": "stream",
     "text": [
      "✅ Vector database saved to '../db'\n"
     ]
    }
   ],
   "source": [
    "# ✅ Embed and store in Chroma\n",
    "persist_dir = \"../db\"  # Go up one level from 'notebooks/' to the main folder\n",
    "db = Chroma.from_texts(chunks, embedding, persist_directory=persist_dir)\n",
    "print(f\"✅ Vector database saved to '{persist_dir}'\")"
   ]
  }
 ],
 "metadata": {
  "kernelspec": {
   "display_name": "venv",
   "language": "python",
   "name": "python3"
  },
  "language_info": {
   "codemirror_mode": {
    "name": "ipython",
    "version": 3
   },
   "file_extension": ".py",
   "mimetype": "text/x-python",
   "name": "python",
   "nbconvert_exporter": "python",
   "pygments_lexer": "ipython3",
   "version": "3.13.3"
  }
 },
 "nbformat": 4,
 "nbformat_minor": 5
}
